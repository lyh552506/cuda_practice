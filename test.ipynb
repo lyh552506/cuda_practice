{
 "cells": [
  {
   "cell_type": "code",
   "execution_count": 9,
   "metadata": {},
   "outputs": [],
   "source": [
    "import torch\n",
    "import numpy as np\n",
    "output_file_path = './Kittens/input.txt'\n",
    "with open(output_file_path,'w') as f:\n",
    "\tq=torch.randn(16, 1024, 128, dtype=torch.float16, device='cuda', requires_grad=False).contiguous()\n",
    "\tk=torch.randn(16, 1024, 128, dtype=torch.float16, device='cuda', requires_grad=False).contiguous()\n",
    "\tv=torch.randn(16, 1024, 128, dtype=torch.float16, device='cuda', requires_grad=False).contiguous()\n",
    "\to=torch.randn(16, 1024, 128, dtype=torch.float16, device='cuda', requires_grad=False).contiguous()\n",
    "\tq=q.to(torch.float32)\n",
    "\tk = k.to(torch.float32)\n",
    "\tv = v.to(torch.float32)\n",
    "\to = o.to(torch.float32)\n",
    "\n",
    "    # 将每个张量的数据转换为 numpy 数组，然后转换为字符串格式\n",
    "\tnp.savetxt(f, q.cpu().numpy().reshape(-1), fmt='%f')  # k的扁平化数据写入文件\n",
    "\tnp.savetxt(f, k.cpu().numpy().reshape(-1), fmt='%f')  # k的扁平化数据写入文件\n",
    "\tnp.savetxt(f, v.cpu().numpy().reshape(-1), fmt='%f')  # v的扁平化数据写入文件\n",
    "\tnp.savetxt(f, o.cpu().numpy().reshape(-1), fmt='%f')  # o的扁平化数据写入文件\n",
    "\n"
   ]
  }
 ],
 "metadata": {
  "kernelspec": {
   "display_name": "base",
   "language": "python",
   "name": "python3"
  },
  "language_info": {
   "codemirror_mode": {
    "name": "ipython",
    "version": 3
   },
   "file_extension": ".py",
   "mimetype": "text/x-python",
   "name": "python",
   "nbconvert_exporter": "python",
   "pygments_lexer": "ipython3",
   "version": "3.12.3"
  }
 },
 "nbformat": 4,
 "nbformat_minor": 2
}
